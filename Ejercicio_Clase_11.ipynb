{
  "nbformat": 4,
  "nbformat_minor": 0,
  "metadata": {
    "colab": {
      "provenance": []
    },
    "kernelspec": {
      "name": "python3",
      "display_name": "Python 3"
    },
    "language_info": {
      "name": "python"
    }
  },
  "cells": [
    {
      "cell_type": "code",
      "source": [
        "from google.colab import drive\n",
        "drive.mount('/content/drive')"
      ],
      "metadata": {
        "colab": {
          "base_uri": "https://localhost:8080/"
        },
        "id": "UpTB3XwANrPw",
        "outputId": "000d4976-aa0c-455f-ea9f-24eaf620205d"
      },
      "execution_count": 1,
      "outputs": [
        {
          "output_type": "stream",
          "name": "stdout",
          "text": [
            "Drive already mounted at /content/drive; to attempt to forcibly remount, call drive.mount(\"/content/drive\", force_remount=True).\n"
          ]
        }
      ]
    },
    {
      "cell_type": "code",
      "execution_count": 3,
      "metadata": {
        "id": "kAvlAHYmBpmj"
      },
      "outputs": [],
      "source": [
        "import tensorflow as tf\n",
        "from tensorflow.keras.preprocessing.image import ImageDataGenerator"
      ]
    },
    {
      "cell_type": "code",
      "source": [
        "#Directorio principal donde están las carpetas good_quality y bad_quality\n",
        "data_dir = '/content/drive/MyDrive/Visión por computadora/Tareas/Actividad_Clase_11'"
      ],
      "metadata": {
        "id": "4nIsUXP4NF1D"
      },
      "execution_count": 5,
      "outputs": []
    },
    {
      "cell_type": "code",
      "source": [
        "#Crear generadores de datos con una división del 20% para validación\n",
        "datagen = ImageDataGenerator(rescale=1./255, validation_split=0.2)"
      ],
      "metadata": {
        "id": "Muev5nZdxEOS"
      },
      "execution_count": 6,
      "outputs": []
    },
    {
      "cell_type": "code",
      "source": [
        "train_generator = datagen.flow_from_directory(\n",
        "    data_dir,\n",
        "    target_size=(240, 320),\n",
        "    batch_size=32,\n",
        "    class_mode='binary',\n",
        "    subset='training'\n",
        ")\n",
        "\n",
        "validation_generator = datagen.flow_from_directory(\n",
        "    data_dir,\n",
        "    target_size=(240, 320),\n",
        "    batch_size=32,\n",
        "    class_mode='binary',\n",
        "    subset='validation'\n",
        ")"
      ],
      "metadata": {
        "colab": {
          "base_uri": "https://localhost:8080/"
        },
        "id": "P913GWPrxJ9t",
        "outputId": "03605623-07bd-4029-e1f4-9e0951c70c27"
      },
      "execution_count": 7,
      "outputs": [
        {
          "output_type": "stream",
          "name": "stdout",
          "text": [
            "Found 1661 images belonging to 3 classes.\n",
            "Found 415 images belonging to 3 classes.\n"
          ]
        }
      ]
    },
    {
      "cell_type": "code",
      "source": [
        "from tensorflow.keras import layers, models"
      ],
      "metadata": {
        "id": "ok9wvRa-xMSY"
      },
      "execution_count": 8,
      "outputs": []
    },
    {
      "cell_type": "code",
      "source": [
        "def build_model(hp):\n",
        "    model = models.Sequential()\n",
        "    model.add(layers.Conv2D(filters=hp.Int('conv_1_filter', min_value=32, max_value=128, step=16),\n",
        "                            kernel_size=hp.Choice('conv_1_kernel', values=[3, 5]),\n",
        "                            activation='relu',\n",
        "                            input_shape=(240, 320, 3)))\n",
        "    model.add(layers.MaxPooling2D(pool_size=(2, 2)))\n",
        "    model.add(layers.Conv2D(filters=hp.Int('conv_2_filter', min_value=32, max_value=64, step=16),\n",
        "                            kernel_size=hp.Choice('conv_2_kernel', values=[3, 5]),\n",
        "                            activation='relu'))\n",
        "    model.add(layers.MaxPooling2D(pool_size=(2, 2)))\n",
        "    model.add(layers.Flatten())\n",
        "    model.add(layers.Dense(units=hp.Int('dense_units', min_value=32, max_value=128, step=16),\n",
        "                           activation='relu'))\n",
        "    model.add(layers.Dense(1, activation='sigmoid'))  # Clasificación binaria\n",
        "\n",
        "    model.compile(optimizer=tf.keras.optimizers.Adam(hp.Choice('learning_rate', values=[1e-2, 1e-3, 1e-4])),\n",
        "                  loss='binary_crossentropy',\n",
        "                  metrics=['accuracy'])\n",
        "    return model"
      ],
      "metadata": {
        "id": "366igTJTxOpM"
      },
      "execution_count": 9,
      "outputs": []
    },
    {
      "cell_type": "code",
      "source": [
        "!pip install keras-tuner"
      ],
      "metadata": {
        "colab": {
          "base_uri": "https://localhost:8080/"
        },
        "id": "9JVmMh_SxePT",
        "outputId": "9d644c0a-18da-45b4-dda6-f5d1fdb0f8a3"
      },
      "execution_count": 10,
      "outputs": [
        {
          "output_type": "stream",
          "name": "stdout",
          "text": [
            "Collecting keras-tuner\n",
            "  Downloading keras_tuner-1.4.7-py3-none-any.whl (129 kB)\n",
            "\u001b[2K     \u001b[90m━━━━━━━━━━━━━━━━━━━━━━━━━━━━━━━━━━━━━━━━\u001b[0m \u001b[32m129.1/129.1 kB\u001b[0m \u001b[31m3.0 MB/s\u001b[0m eta \u001b[36m0:00:00\u001b[0m\n",
            "\u001b[?25hRequirement already satisfied: keras in /usr/local/lib/python3.10/dist-packages (from keras-tuner) (2.15.0)\n",
            "Requirement already satisfied: packaging in /usr/local/lib/python3.10/dist-packages (from keras-tuner) (24.0)\n",
            "Requirement already satisfied: requests in /usr/local/lib/python3.10/dist-packages (from keras-tuner) (2.31.0)\n",
            "Collecting kt-legacy (from keras-tuner)\n",
            "  Downloading kt_legacy-1.0.5-py3-none-any.whl (9.6 kB)\n",
            "Requirement already satisfied: charset-normalizer<4,>=2 in /usr/local/lib/python3.10/dist-packages (from requests->keras-tuner) (3.3.2)\n",
            "Requirement already satisfied: idna<4,>=2.5 in /usr/local/lib/python3.10/dist-packages (from requests->keras-tuner) (3.7)\n",
            "Requirement already satisfied: urllib3<3,>=1.21.1 in /usr/local/lib/python3.10/dist-packages (from requests->keras-tuner) (2.0.7)\n",
            "Requirement already satisfied: certifi>=2017.4.17 in /usr/local/lib/python3.10/dist-packages (from requests->keras-tuner) (2024.2.2)\n",
            "Installing collected packages: kt-legacy, keras-tuner\n",
            "Successfully installed keras-tuner-1.4.7 kt-legacy-1.0.5\n"
          ]
        }
      ]
    },
    {
      "cell_type": "code",
      "source": [
        "from kerastuner import RandomSearch\n",
        "from kerastuner.engine.hyperparameters import HyperParameters"
      ],
      "metadata": {
        "colab": {
          "base_uri": "https://localhost:8080/"
        },
        "id": "bDmi55arxic9",
        "outputId": "7f986141-88f6-475d-cdc7-f6ec2bc4a8f3"
      },
      "execution_count": 11,
      "outputs": [
        {
          "output_type": "stream",
          "name": "stderr",
          "text": [
            "<ipython-input-11-2bbfbe7dae29>:1: DeprecationWarning: `import kerastuner` is deprecated, please use `import keras_tuner`.\n",
            "  from kerastuner import RandomSearch\n"
          ]
        }
      ]
    },
    {
      "cell_type": "code",
      "source": [
        "# Definir la búsqueda aleatoria\n",
        "tuner = RandomSearch(build_model,\n",
        "                     objective='val_accuracy',\n",
        "                     max_trials=5,\n",
        "                     executions_per_trial=3,\n",
        "                     directory='output',\n",
        "                     project_name='mango_leaf_classification')"
      ],
      "metadata": {
        "id": "ui5z-Rbdxldy"
      },
      "execution_count": 13,
      "outputs": []
    },
    {
      "cell_type": "code",
      "source": [
        "#Realizar la búsqueda\n",
        "tuner.search(train_generator, epochs=10, validation_data=validation_generator)"
      ],
      "metadata": {
        "colab": {
          "base_uri": "https://localhost:8080/"
        },
        "id": "7b2Nl_Uexrev",
        "outputId": "46449c1e-7712-4270-87c2-2a0fa53451bd"
      },
      "execution_count": null,
      "outputs": [
        {
          "output_type": "stream",
          "name": "stdout",
          "text": [
            "Trial 4 Complete [03h 06m 31s]\n",
            "val_accuracy: 0.45783132314682007\n",
            "\n",
            "Best val_accuracy So Far: 0.45783132314682007\n",
            "Total elapsed time: 16h 18m 18s\n",
            "\n",
            "Search: Running Trial #5\n",
            "\n",
            "Value             |Best Value So Far |Hyperparameter\n",
            "128               |128               |conv_1_filter\n",
            "3                 |5                 |conv_1_kernel\n",
            "32                |48                |conv_2_filter\n",
            "5                 |3                 |conv_2_kernel\n",
            "128               |96                |dense_units\n",
            "0.0001            |0.0001            |learning_rate\n",
            "\n",
            "Epoch 1/10\n",
            "52/52 [==============================] - 1007s 19s/step - loss: -760.7556 - accuracy: 0.4491 - val_loss: -3451.1841 - val_accuracy: 0.4578\n",
            "Epoch 2/10\n",
            "52/52 [==============================] - 1024s 20s/step - loss: -21093.4238 - accuracy: 0.4582 - val_loss: -56153.7969 - val_accuracy: 0.4578\n",
            "Epoch 3/10\n",
            "52/52 [==============================] - 989s 19s/step - loss: -154006.2969 - accuracy: 0.4582 - val_loss: -299619.6562 - val_accuracy: 0.4578\n",
            "Epoch 4/10\n",
            "52/52 [==============================] - 977s 19s/step - loss: -596748.5000 - accuracy: 0.4582 - val_loss: -967753.1250 - val_accuracy: 0.4578\n",
            "Epoch 5/10\n",
            "52/52 [==============================] - 999s 19s/step - loss: -1600571.7500 - accuracy: 0.4582 - val_loss: -2357815.5000 - val_accuracy: 0.4578\n",
            "Epoch 6/10\n",
            "52/52 [==============================] - 966s 19s/step - loss: -3512724.7500 - accuracy: 0.4582 - val_loss: -4812227.0000 - val_accuracy: 0.4578\n",
            "Epoch 7/10\n",
            "52/52 [==============================] - 968s 19s/step - loss: -6737103.0000 - accuracy: 0.4582 - val_loss: -8787563.0000 - val_accuracy: 0.4578\n",
            "Epoch 8/10\n",
            "52/52 [==============================] - 987s 19s/step - loss: -11765312.0000 - accuracy: 0.4582 - val_loss: -14719502.0000 - val_accuracy: 0.4578\n",
            "Epoch 9/10\n",
            "52/52 [==============================] - 966s 19s/step - loss: -19031120.0000 - accuracy: 0.4582 - val_loss: -23216542.0000 - val_accuracy: 0.4578\n",
            "Epoch 10/10\n",
            "52/52 [==============================] - 973s 19s/step - loss: -29098828.0000 - accuracy: 0.4582 - val_loss: -34602500.0000 - val_accuracy: 0.4578\n",
            "Epoch 1/10\n",
            "52/52 [==============================] - 1026s 20s/step - loss: -974.2238 - accuracy: 0.4515 - val_loss: -4310.2549 - val_accuracy: 0.4578\n",
            "Epoch 2/10\n",
            "52/52 [==============================] - 994s 19s/step - loss: -24729.3672 - accuracy: 0.4582 - val_loss: -65579.8203 - val_accuracy: 0.4578\n",
            "Epoch 3/10\n",
            "52/52 [==============================] - 985s 19s/step - loss: -185628.0625 - accuracy: 0.4582 - val_loss: -361107.3438 - val_accuracy: 0.4578\n",
            "Epoch 4/10\n",
            "52/52 [==============================] - 1004s 19s/step - loss: -715508.6875 - accuracy: 0.4582 - val_loss: -1190038.0000 - val_accuracy: 0.4578\n",
            "Epoch 5/10\n",
            "52/52 [==============================] - 997s 19s/step - loss: -1962300.3750 - accuracy: 0.4582 - val_loss: -2910777.2500 - val_accuracy: 0.4578\n",
            "Epoch 6/10\n",
            "52/52 [==============================] - 1020s 20s/step - loss: -4357591.5000 - accuracy: 0.4582 - val_loss: -5980499.5000 - val_accuracy: 0.4578\n",
            "Epoch 7/10\n",
            "52/52 [==============================] - 978s 19s/step - loss: -8360452.5000 - accuracy: 0.4582 - val_loss: -10937941.0000 - val_accuracy: 0.4578\n",
            "Epoch 8/10\n",
            "52/52 [==============================] - 978s 19s/step - loss: -14587701.0000 - accuracy: 0.4582 - val_loss: -18308378.0000 - val_accuracy: 0.4578\n",
            "Epoch 9/10\n",
            "52/52 [==============================] - 972s 19s/step - loss: -23643766.0000 - accuracy: 0.4582 - val_loss: -28840266.0000 - val_accuracy: 0.4578\n",
            "Epoch 10/10\n",
            "52/52 [==============================] - 965s 19s/step - loss: -36232596.0000 - accuracy: 0.4582 - val_loss: -43046180.0000 - val_accuracy: 0.4578\n",
            "Epoch 1/10\n",
            "52/52 [==============================] - 1014s 19s/step - loss: -1045.6980 - accuracy: 0.4582 - val_loss: -4572.3745 - val_accuracy: 0.4578\n",
            "Epoch 2/10\n",
            "52/52 [==============================] - 991s 19s/step - loss: -25184.1211 - accuracy: 0.4582 - val_loss: -64476.4531 - val_accuracy: 0.4578\n",
            "Epoch 3/10\n",
            "52/52 [==============================] - 998s 19s/step - loss: -173766.6875 - accuracy: 0.4582 - val_loss: -333891.0938 - val_accuracy: 0.4578\n",
            "Epoch 4/10\n",
            "52/52 [==============================] - 989s 19s/step - loss: -661793.9375 - accuracy: 0.4582 - val_loss: -1072060.1250 - val_accuracy: 0.4578\n",
            "Epoch 5/10\n",
            "52/52 [==============================] - 979s 19s/step - loss: -1783793.5000 - accuracy: 0.4582 - val_loss: -2624608.0000 - val_accuracy: 0.4578\n",
            "Epoch 6/10\n",
            "52/52 [==============================] - 979s 19s/step - loss: -3943929.0000 - accuracy: 0.4582 - val_loss: -5439049.5000 - val_accuracy: 0.4578\n",
            "Epoch 7/10\n",
            " 5/52 [=>............................] - ETA: 13:32 - loss: -6995680.0000 - accuracy: 0.3250"
          ]
        }
      ]
    },
    {
      "cell_type": "code",
      "source": [
        "#Obtener los mejores hiperparámetros\n",
        "best_hps = tuner.get_best_hyperparameters(num_trials=1)[0]"
      ],
      "metadata": {
        "id": "MO9FO3jTxzL1"
      },
      "execution_count": null,
      "outputs": []
    },
    {
      "cell_type": "code",
      "source": [
        "#Construir y entrenar el modelo con los mejores hiperparámetros\n",
        "model = build_model(best_hps)\n",
        "history = model.fit(train_generator, epochs=50, validation_data=validation_generator)"
      ],
      "metadata": {
        "id": "WsY4gNtXx12K"
      },
      "execution_count": null,
      "outputs": []
    },
    {
      "cell_type": "code",
      "source": [
        "#Evaluar el modelo\n",
        "eval_result = model.evaluate(validation_generator)\n",
        "print(f'\\nTest accuracy: {eval_result[1]}')"
      ],
      "metadata": {
        "id": "tIIi494ix7Ep"
      },
      "execution_count": null,
      "outputs": []
    }
  ]
}